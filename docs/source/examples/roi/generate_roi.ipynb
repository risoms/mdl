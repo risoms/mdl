{
 "cells": [
  {
   "cell_type": "markdown",
   "metadata": {},
   "source": [
    ".. roi_:\n",
    "\n",
    ".. title:: roi\n",
    "\n",
    "#### Region of Interest"
   ]
  },
  {
   "cell_type": "markdown",
   "metadata": {},
   "source": [
    " <div class='info'>\n",
    " <p>@`purpose`: Create regions of interest to export into Eyelink DataViewer or statistical resources such as R and python.</p>\n",
    " <p>@`date`: Created on Sat May 1 15:12:38 2019</p>\n",
    " <p>@`author`: Semeon Risom</p>\n",
    " <p>@`email`: semeon.risom@gmail.com</p>\n",
    " <p>@`url`: https://semeon.io/d/imhr</p>\n",
    " </div>"
   ]
  },
  {
   "cell_type": "markdown",
   "metadata": {},
   "source": [
    " <ul class=\"list-container\">\n",
    "     <li>\n",
    "         <div class=\"title\">ROI Detection:</div>\n",
    "         <ol class=\"list\">\n",
    "             <li>Highlighted ROI from Photoshop PSD.</li>\n",
    "             <li>Classified using Haar Cascades.</li>\n",
    "         </ol>\n",
    "     </li>\n",
    "     <li>\n",
    "         <div class=\"title\">Boundary shape:</div>\n",
    "         <ol class=\"list\">\n",
    "             <li>Polygon</li>\n",
    "             <li>Hull</li>\n",
    "             <li>Circle</li>\n",
    "             <li>Rectangle (rotated)</li>\n",
    "             <li>Rectangle (straight)</li>\n",
    "         </ol>\n",
    "     </li>\n",
    "     <li>\n",
    "         <div class=\"title\">Output format:</div>\n",
    "         <ol class=\"list\">\n",
    "             <li>Excel</li>\n",
    "             <li>EyeLink DataViewer ias</li>\n",
    "         </ol>\n",
    "     </li>\n",
    " </ul>"
   ]
  },
  {
   "cell_type": "code",
   "execution_count": 0,
   "metadata": {},
   "outputs": [],
   "source": [
    "%pwd \n",
    "%cd /Users/mdl-admin/Desktop/mdl/"
   ]
  },
  {
   "cell_type": "markdown",
   "metadata": {},
   "source": [
    "#### 1. Demonstration"
   ]
  },
  {
   "cell_type": "code",
   "execution_count": 0,
   "metadata": {},
   "outputs": [],
   "source": [
    "# import\n",
    "import imhr\n",
    "# initiate\n",
    "roi = imhr.eyetracking.ROI(isDebug=True, isDemo=True)\n",
    "# run\n",
    "df, error = roi.process()"
   ]
  },
  {
   "cell_type": "markdown",
   "metadata": {},
   "source": [
    " <p>and here are the results.</p>"
   ]
  },
  {
   "cell_type": "code",
   "execution_count": 0,
   "metadata": {},
   "outputs": [],
   "source": [
    "# results\n",
    "df"
   ]
  },
  {
   "cell_type": "markdown",
   "metadata": {},
   "source": [
    "#### 2. Highlighted ROI from Photoshop PSD"
   ]
  },
  {
   "cell_type": "code",
   "execution_count": 0,
   "metadata": {},
   "outputs": [],
   "source": [
    "#.. code-block:: python\n",
    "%matplotlib notebook\n",
    "import matplotlib.pyplot as plt\n",
    "import matplotlib.image as image\n",
    "fig, (ax1, ax2) = plt.subplots(1, 2, sharey=True, figsize=(16,8))\n",
    "# roi\n",
    "image = image.imread('/Users/mdl-admin/Desktop/roi/output/img/raw/2550.png')\n",
    "im = ax1.imshow(image)\n",
    "# contour\n",
    "image = image.imread('/Users/mdl-admin/Desktop/roi/output/img/raw/2550.png')\n",
    "im = ax1.imshow(image)\n",
    "# show\n",
    "ax.axis('off')\n",
    "plt.tight_layout()\n",
    "plt.show()"
   ]
  },
  {
   "cell_type": "code",
   "execution_count": 0,
   "metadata": {},
   "outputs": [],
   "source": [
    "%config InlineBackend.close_figures\n",
    "%matplotlib inline"
   ]
  },
  {
   "cell_type": "code",
   "execution_count": 0,
   "metadata": {},
   "outputs": [],
   "source": [
    "# import\n",
    "import imhr\n",
    "# set path\n",
    "image_path = '/Users/mdl-admin/Desktop/roi/raw/1/'\n",
    "output_path = '/Users/mdl-admin/Desktop/roi/output/'\n",
    "metadata_source = '/Users/mdl-admin/Desktop/roi/raw/1/metadata.xlsx'\n",
    "# initiate\n",
    "roi = imhr.eyetracking.ROI(isMultiprocessing=False, isDebug=True, isDemo=False, detection='manual',\n",
    "\t   image_path=image_path, output_path=output_path, metadata_source=metadata_source,\n",
    "\t   scale=1, screensize=[1920,1080], shape='straight', \n",
    "\t   roi_format='both', recenter=[(1920*.50),(1080*.50)], \n",
    "\t   uuid=['image','roi','position'], \n",
    "\t   newcolumn={'position': 'center'})\n",
    "# run\n",
    "df, error = roi.process()"
   ]
  },
  {
   "cell_type": "markdown",
   "metadata": {},
   "source": [
    " <p>and here are the results.</p>"
   ]
  },
  {
   "cell_type": "code",
   "execution_count": 0,
   "metadata": {},
   "outputs": [],
   "source": [
    "# results\n",
    "df"
   ]
  }
 ],
 "metadata": {
  "file_extension": ".py",
  "kernelspec": {
   "display_name": "Python 3",
   "language": "python",
   "name": "python3"
  },
  "language_info": {
   "codemirror_mode": {
    "name": "ipython",
    "version": 3
   },
   "file_extension": ".py",
   "mimetype": "text/x-python",
   "name": "python",
   "nbconvert_exporter": "python",
   "pygments_lexer": "ipython3",
   "version": "3.7.3"
  },
  "mimetype": "text/x-python",
  "name": "python",
  "npconvert_exporter": "python",
  "pygments_lexer": "ipython3",
  "version": 3
 },
 "nbformat": 4,
 "nbformat_minor": 2
}
