{
 "cells": [
  {
   "cell_type": "markdown",
   "metadata": {},
   "source": [
    ".. roi_:\n",
    "\n",
    ".. title:: roi\n",
    "\n",
    "### Region of Interest"
   ]
  },
  {
   "cell_type": "markdown",
   "metadata": {},
   "source": [
    "<div class='info'>\n",
    "<p>@`purpose`: Create regions of interest to export into Eyelink DataViewer or statistical resources such as R and python.</p>\n",
    "<p>@`date`: Created on Sat May 1 15:12:38 2019</p>\n",
    "<p>@`author`: Semeon Risom</p>\n",
    "<p>@`email`: semeon.risom@gmail.com</p>\n",
    "<p>@`url`: https://semeon.io/d/imhr</p>\n",
    "</div>"
   ]
  },
  {
   "cell_type": "markdown",
   "metadata": {},
   "source": [
    "<ul class=\"list-container\">\n",
    "    <li>\n",
    "        <div class=\"title\">ROI Detection:</div>\n",
    "        <ol class=\"list\">\n",
    "            <li>Highlighted ROI from Photoshop PSD.</li>\n",
    "            <li>Classified using Haar Cascades.</li>\n",
    "        </ol>\n",
    "    </li>\n",
    "    <li>\n",
    "        <div class=\"title\">Boundary shape:</div>\n",
    "        <ol class=\"list\">\n",
    "            <li>Polygon</li>\n",
    "            <li>Hull</li>\n",
    "            <li>Circle</li>\n",
    "            <li>Rectangle (rotated)</li>\n",
    "            <li>Rectangle (straight)</li>\n",
    "        </ol>\n",
    "    </li>\n",
    "    <li>\n",
    "        <div class=\"title\">Output format:</div>\n",
    "        <ol class=\"list\">\n",
    "            <li>Excel</li>\n",
    "            <li>EyeLink DataViewer ias</li>\n",
    "        </ol>\n",
    "    </li>\n",
    "</ul>"
   ]
  },
  {
   "cell_type": "code",
   "execution_count": 0,
   "metadata": {},
   "outputs": [],
   "source": [
    "%pwd \n",
    "%cd /Users/mdl-admin/Desktop/mdl/"
   ]
  },
  {
   "cell_type": "markdown",
   "metadata": {},
   "source": [
    "#### 1. Demonstration"
   ]
  },
  {
   "cell_type": "code",
   "execution_count": 0,
   "metadata": {},
   "outputs": [],
   "source": [
    "#import\n",
    "import imhr\n",
    "#initiate\n",
    "roi = imhr.eyetracking.ROI(isDebug=True, isDemo=True)\n",
    "#run\n",
    "df, error = roi.process()"
   ]
  },
  {
   "cell_type": "markdown",
   "metadata": {},
   "source": [
    "<p>and here are the results.</p>"
   ]
  },
  {
   "cell_type": "code",
   "execution_count": 0,
   "metadata": {},
   "outputs": [],
   "source": [
    "#results\n",
    "df"
   ]
  },
  {
   "cell_type": "markdown",
   "metadata": {},
   "source": [
    "##### 2. Highlighted ROI from Photoshop PSD"
   ]
  },
  {
   "cell_type": "raw",
   "metadata": {},
   "source": [
    "%matplotlib inline\n",
    "from pylab import *  \n",
    "from pathlib import Path\n",
    "import matplotlib.pyplot as plt  \n",
    "import matplotlib.image as image  \n",
    "fig, (ax1, ax2) = plt.subplots(1, 2, sharey=True, figsize=(12,6))  \n",
    "path = Path('%s/imhr/dist/roi/output/img/'%(Path.cwd()))  \n",
    "#roi  \n",
    "im = image.imread('%s/preprocessed/AM_201.png'%(path))  \n",
    "ax1.imshow(im)  \n",
    "ax1.axis('off')  \n",
    "ax1.set_title('Region of Interest')  \n",
    "#contour  \n",
    "im = image.imread('%s/bounds/AM_201.png'%(path))  \n",
    "ax2.imshow(im)  \n",
    "ax2.axis('off')  \n",
    "ax2.set_title('Rectangular Bounds')  \n",
    "#show \n",
    "plt.tight_layout()  \n",
    "plt.show()  \n",
    "show()"
   ]
  },
  {
   "cell_type": "code",
   "execution_count": 0,
   "metadata": {},
   "outputs": [],
   "source": [
    "#import\n",
    "import imhr\n",
    "#set path\n",
    "root = imhr.__path__[0]\n",
    "image_path = '%s/dist/roi/raw/1/'%(root)\n",
    "output_path = '%s/dist/roi/output/'%(root)\n",
    "metadata_source = '%s/dist/roi/raw/1/metadata.xlsx'%(root)\n",
    "#initiate\n",
    "roi = imhr.eyetracking.ROI(isMultiprocessing=False, isDebug=True, isDemo=False, detection='manual',\n",
    "\t   image_path=image_path, output_path=output_path, metadata_source=metadata_source, shape='straight',\n",
    "\t   scale=1, screensize=[1920,1080], roi_format='both', recenter=[(1920*.50),(1080*.50)], \n",
    "\t   uuid=['image','roi','position'], newcolumn={'position': 'center'})\n",
    "#run\n",
    "df, error = roi.process()"
   ]
  },
  {
   "cell_type": "markdown",
   "metadata": {},
   "source": [
    "<p>and here are the results.</p>"
   ]
  },
  {
   "cell_type": "code",
   "execution_count": 0,
   "metadata": {},
   "outputs": [],
   "source": [
    "#results\n",
    "df"
   ]
  }
 ],
 "metadata": {
  "file_extension": ".py",
  "kernelspec": {
   "display_name": "Python 3",
   "language": "python",
   "name": "python3"
  },
  "language_info": {
   "codemirror_mode": {
    "name": "ipython",
    "version": 3
   },
   "file_extension": ".py",
   "mimetype": "text/x-python",
   "name": "python",
   "nbconvert_exporter": "python",
   "pygments_lexer": "ipython3",
   "version": "3.7.3"
  },
  "mimetype": "text/x-python",
  "name": "python",
  "npconvert_exporter": "python",
  "pygments_lexer": "ipython3",
  "version": 3
 },
 "nbformat": 4,
 "nbformat_minor": 2
}
