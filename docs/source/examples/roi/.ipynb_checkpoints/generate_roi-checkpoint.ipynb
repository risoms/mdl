{
 "cells": [
  {
   "cell_type": "markdown",
   "metadata": {},
   "source": [
    " .. roi_:\n",
    " \n",
    " .. title:: roi\n",
    " \n",
    "#### Region of Interest"
   ]
  },
  {
   "cell_type": "markdown",
   "metadata": {},
   "source": [
    " Created on Sat May 1 15:12:38 2019  \n",
    " @author: Semeon Risom  \n",
    " @email: semeon.risom@gmail.com  \n",
    " @url: https://semeon.io/d/mdl   \n",
    " @purpose: Create regions of interest to export into Eyelink DataViewer or statistical resources such as R and python."
   ]
  },
  {
   "cell_type": "markdown",
   "metadata": {},
   "source": [
    "##### imports"
   ]
  },
  {
   "cell_type": "code",
   "execution_count": null,
   "metadata": {
    "outputExpanded": true
   },
   "outputs": [],
   "source": [
    "import os, sys; sys.path.append(os.path.abspath('../../../'))\n",
    "from mdl.roi import ROI"
   ]
  },
  {
   "cell_type": "markdown",
   "metadata": {},
   "source": [
    "##### Read ROI from photoshop PSD files"
   ]
  },
  {
   "cell_type": "code",
   "execution_count": null,
   "metadata": {},
   "outputs": [],
   "source": [
    "s = '/Users/mdl-admin/Desktop/roi/raw/'\n",
    "d = '/Users/mdl-admin/Desktop/roi/output/'\n",
    "ROI(source=s, destination=d, shape='box')"
   ]
  }
 ],
 "metadata": {
  "file_extension": ".py",
  "kernel_info": {
   "name": "python3"
  },
  "kernelspec": {
   "display_name": "Python 3",
   "language": "python",
   "name": "python3"
  },
  "language_info": {
   "codemirror_mode": {
    "name": "ipython",
    "version": 3
   },
   "file_extension": ".py",
   "mimetype": "text/x-python",
   "name": "python",
   "nbconvert_exporter": "python",
   "pygments_lexer": "ipython3",
   "version": "3.7.3"
  },
  "mimetype": "text/x-python",
  "name": "python",
  "npconvert_exporter": "python",
  "nteract": {
   "version": "0.13.0"
  },
  "pygments_lexer": "ipython3",
  "version": 3
 },
 "nbformat": 4,
 "nbformat_minor": 2
}
