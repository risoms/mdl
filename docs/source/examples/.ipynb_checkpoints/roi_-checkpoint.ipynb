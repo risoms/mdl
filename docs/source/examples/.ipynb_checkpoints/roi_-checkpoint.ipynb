{
 "cells": [
  {
   "cell_type": "markdown",
   "metadata": {},
   "source": [
    " .. roi_:\n",
    " \n",
    " .. title:: ROI\n",
    " \n",
    "#### Region of Interest"
   ]
  },
  {
   "cell_type": "markdown",
   "metadata": {},
   "source": [
    " Created on Sat May 1 15:12:38 2019  \n",
    " @author: Semeon Risom  \n",
    " @email: semeon.risom@gmail.com  \n",
    " @url: https://semeon.io/d/mdl   \n",
    " @purpose: Create regions of interest to export into Eyelink DataViewer "
   ]
  },
  {
   "cell_type": "markdown",
   "metadata": {},
   "source": [
    "##### imports"
   ]
  },
  {
   "cell_type": "code",
   "execution_count": null,
   "metadata": {
    "outputExpanded": true
   },
   "outputs": [],
   "source": [
    "import os, sys; sys.path.append(os.path.abspath('../../../'))\n",
    "from mdl.download import Download"
   ]
  },
  {
   "cell_type": "markdown",
   "metadata": {},
   "source": [
    "##### raw data (UTWeb)"
   ]
  },
  {
   "cell_type": "code",
   "execution_count": null,
   "metadata": {},
   "outputs": [],
   "source": [
    "#----login\n",
    "home = 'panel.utweb.utexas.edu' #hostname\n",
    "user = \"utw10623\" #username\n",
    "pwd = \"mdlcla\" #password\n",
    "#----download partial data\n",
    "filetype = '.csv'\n",
    "s = '/home/utweb/utw10623/public_html/a/r33/src/csv/data/subject/part'\n",
    "d = '/Users/mdl-admin/Desktop/r33/utweb/part'\n",
    "log, start, end, now = Download.SFTP(source=s, destination=d, hostname=home, username=user, password=pwd, filetype=filetype)\n",
    "#----download full data\n",
    "filetype = '.csv'\n",
    "s = '/home/utweb/utw10623/public_html/a/r33/src/csv/data/subject'\n",
    "d = '/Users/mdl-admin/Desktop/r33/utweb/full'\n",
    "log, start, end, now = Download.SFTP(source=s, destination=d, hostname=home, username=user, password=pwd, filetype=filetype)"
   ]
  },
  {
   "cell_type": "markdown",
   "metadata": {},
   "source": [
    "##### REDCap"
   ]
  },
  {
   "cell_type": "code",
   "execution_count": null,
   "metadata": {},
   "outputs": [],
   "source": [
    "#----login, paths\n",
    "d = '/Users/mdl-admin/Desktop/r33/redcap'\n",
    "redcap_token = 'D19832E1ACE0B3A502F2E41E05057C20'\n",
    "redcap_url = 'https://redcap.prc.utexas.edu/redcap/api/'\n",
    "content = 'report'\n",
    "report_id = '4717'\n",
    "#----export \n",
    "# completed: report, participantList, metadata, project\n",
    "log, start, end, now = download.REDCap(path=d, token=redcap_token, url=redcap_url, content=content, report_id=report_id)"
   ]
  },
  {
   "cell_type": "markdown",
   "metadata": {},
   "source": [
    "##### box"
   ]
  },
  {
   "cell_type": "code",
   "execution_count": null,
   "metadata": {},
   "outputs": [],
   "source": []
  }
 ],
 "metadata": {
  "file_extension": ".py",
  "kernel_info": {
   "name": "python3"
  },
  "kernelspec": {
   "display_name": "Python 3",
   "language": "python",
   "name": "python3"
  },
  "language_info": {
   "codemirror_mode": {
    "name": "ipython",
    "version": 3
   },
   "file_extension": ".py",
   "mimetype": "text/x-python",
   "name": "python",
   "nbconvert_exporter": "python",
   "pygments_lexer": "ipython3",
   "version": "3.6.8"
  },
  "mimetype": "text/x-python",
  "name": "python",
  "npconvert_exporter": "python",
  "nteract": {
   "version": "0.13.0"
  },
  "pygments_lexer": "ipython3",
  "version": 3
 },
 "nbformat": 4,
 "nbformat_minor": 2
}
