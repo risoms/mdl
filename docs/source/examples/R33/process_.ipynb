{
 "cells": [
  {
   "cell_type": "markdown",
   "metadata": {},
   "source": [
    " .. process_:\n",
    " \n",
    " .. title:: Process\n",
    " \n",
    "#### Process"
   ]
  },
  {
   "cell_type": "markdown",
   "metadata": {},
   "source": [
    "Created on Sat May 1 15:12:38 2019  \n",
    "@author: Semeon Risom  \n",
    "@email: semeon.risom@gmail.com  \n",
    "@url: https://semeon.io/d/R33-analysis  \n",
    "@purpose: Hub for running processing and analysis.  "
   ]
  },
  {
   "cell_type": "markdown",
   "metadata": {},
   "source": [
    "##### imports"
   ]
  },
  {
   "cell_type": "code",
   "execution_count": null,
   "metadata": {},
   "outputs": [],
   "source": [
    "#----local\n",
    "from mdl import plot, processing, raw, redcap\n",
    "import mdl.model as model\n",
    "import mdl.settings as settings\n",
    "\n",
    "# check if required libraries are available\n",
    "is_library = False\n",
    "if is_library:\n",
    "    settings.library()\n",
    "pass\n",
    "\n",
    "# core\n",
    "from pdb import set_trace as breakpoint\n",
    "import pandas as pd\n",
    "import gc, glob, string, pytz\n",
    "from datetime import datetime\n",
    "\n",
    "# config\n",
    "config = settings.config\n",
    "filters = settings.config['filters']\n",
    "#set parameters\n",
    "config['task'] = 'gRT'\n",
    "config['type'] = 'eyetracking'\n",
    "config['single_subject'] = False\n",
    "config['single_trial'] = False\n",
    "\n",
    "# set current date\n",
    "date_start = []; date_end = []\n",
    "date_now  = datetime.now().replace(microsecond=0).strftime('%Y-%m-%d %H:%M:%S')"
   ]
  },
  {
   "cell_type": "markdown",
   "metadata": {},
   "source": [
    "##### start"
   ]
  },
  {
   "cell_type": "code",
   "execution_count": null,
   "metadata": {},
   "outputs": [],
   "source": [
    "print(console['red'] + 'Step: preprocessing data' + console['ENDC'])\n",
    "#----parameters\n",
    "path = config['output'] + \"/raw/\"\n",
    "subject = 31\n",
    "trial = 35\n",
    "#----if single subject, single trial\n",
    "if (config['single_subject']) and (config['single_trial']):\n",
    "    print('processing: single subject, single trial')\n",
    "    processing.run(path=path, task_type=config['type'], single_subject=True, single_trial=True, subject=subject, trial=trial)\n",
    "#----else if single subject, all trials\n",
    "elif (config['single_subject']) and (not config['single_trial']):\n",
    "    print('processing: single subject, all trials')\n",
    "    processing.run(path=path, task_type=config['type'], single_subject=True, single_trial=False, subject=subject)\n",
    "#----if all subjects, all trials\n",
    "elif (not config['single_subject']) and (not config['single_trial']):\n",
    "    print('processing: all subjects, all trials')\n",
    "    processing.run(path=path, task_type=config['type'], single_subject=False, single_trial=False, isMultiprocessing=True, cores=7)\n",
    "#----finished\t\n",
    "date_end.append({'preprocessing':'%s'%(datetime.now().replace(microsecond=0).isoformat())})"
   ]
  }
 ],
 "metadata": {
  "file_extension": ".py",
  "kernelspec": {
   "display_name": "Python 3",
   "language": "python",
   "name": "python3"
  },
  "language_info": {
   "codemirror_mode": {
    "name": "ipython",
    "version": 3
   },
   "file_extension": ".py",
   "mimetype": "text/x-python",
   "name": "python",
   "nbconvert_exporter": "python",
   "pygments_lexer": "ipython3",
   "version": "3.6.8"
  },
  "mimetype": "text/x-python",
  "name": "python",
  "npconvert_exporter": "python",
  "pygments_lexer": "ipython3",
  "version": 3
 },
 "nbformat": 4,
 "nbformat_minor": 2
}
