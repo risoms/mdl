{
 "cells": [
  {
   "cell_type": "raw",
   "metadata": {
    "raw_mimetype": "text/restructuredtext"
   },
   "source": [
    ".. _psychopy_builder:\n",
    "\n",
    ".. title:: PsychoPy Builder"
   ]
  },
  {
   "cell_type": "markdown",
   "metadata": {
    "raw_mimetype": "text/restructuredtext"
   },
   "source": [
    "# Example setup for Eyelink 1000 Plus, using PsychoPy 3.0 builder."
   ]
  },
  {
   "cell_type": "markdown",
   "metadata": {},
   "source": [
    "This document provides an example task for running an eyetacking experiment using PsychoPy's GUI. Code is optimized for the Eyelink 1000 Plus (5.0), but should be compatiable with earlier systems."
   ]
  },
  {
   "cell_type": "raw",
   "metadata": {
    "raw_mimetype": "text/restructuredtext"
   },
   "source": [
    ".. cssclass:: table-of-contents psychopy\n",
    "\n",
    ".. contents::\n",
    "    :local:\n",
    "    :depth: 3\n"
   ]
  },
  {
   "cell_type": "markdown",
   "metadata": {
    "raw_mimetype": "text/restructuredtext",
    "toc-hr-collapsed": false
   },
   "source": [
    "## Before Running the Participant"
   ]
  },
  {
   "cell_type": "raw",
   "metadata": {
    "raw_mimetype": "text/restructuredtext"
   },
   "source": [
    ".. cssclass: figure\n",
    "\n",
    ".. plot::\n",
    "\n",
    "    import sys\n",
    "    # add source\n",
    "    sys.path.insert(0, os.path.abspath('./sphinxext'))\n",
    "    sys.path.append('/Users/mdl-admin/Desktop/mdl')\n",
    "    # import package\n",
    "    import imhr\n",
    "\n",
    "    # create image\n",
    "    import matplotlib.pyplot as plt\n",
    "    import matplotlib.image as image\n",
    "    from pathlib import Path\n",
    "    # path\n",
    "    # draw plot\n",
    "    #plt.figure(figsize=(20,6), dpi=400, facecolor='#ffffff')\n",
    "    fig, ax = plt.subplots()\n",
    "    ## load roi\n",
    "    im = image.imread('/Users/mdl-admin/Desktop/mdl/docs/source/examples/eyetracking/_psychopy/img/task.png')\n",
    "    ax.imshow(im)\n",
    "    # labels\n",
    "    ax.get_xaxis().set_ticks([])\n",
    "    ax.get_yaxis().set_ticks([])\n",
    "    # save\n",
    "    plt.tight_layout()\n",
    "    plt.subplots_adjust(wspace=0.1)\n",
    "    ## remove frame\n",
    "    ax.axis('off')\n",
    "    #plt.gca().axes.get_yaxis().set_visible(False)\n",
    "    #plt.gca().axes.get_xaxis().set_visible(False)\n",
    "    plt.tick_params(top='off', bottom='off', left='off', right='off', labelleft='off', labelbottom='off')\n",
    "    plt.box(False)\n",
    "    plt.show()\n",
    "\n",
    "**Figure:** Example **psd** in Adobe Photoshop."
   ]
  }
 ],
 "metadata": {
  "celltoolbar": "Raw Cell Format",
  "file_extension": ".py",
  "kernelspec": {
   "display_name": "Python 3",
   "language": "python",
   "name": "python3"
  },
  "language_info": {
   "codemirror_mode": {
    "name": "ipython",
    "version": 3
   },
   "file_extension": ".py",
   "mimetype": "text/x-python",
   "name": "python",
   "nbconvert_exporter": "python",
   "pygments_lexer": "ipython3",
   "version": "3.7.3"
  },
  "mimetype": "text/x-python",
  "name": "python",
  "npconvert_exporter": "python",
  "pygments_lexer": "ipython3",
  "toc-autonumbering": false,
  "toc-showcode": false,
  "toc-showmarkdowntxt": false,
  "toc-showtags": false,
  "version": 3
 },
 "nbformat": 4,
 "nbformat_minor": 2
}
